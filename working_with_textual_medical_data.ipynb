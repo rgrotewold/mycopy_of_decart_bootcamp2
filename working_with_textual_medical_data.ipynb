{
 "cells": [
  {
   "cell_type": "markdown",
   "metadata": {},
   "source": [
    "<html>\n",
    "<table width=\"100%\" cellspacing=\"2\" cellpadding=\"2\" border=\"1\">\n",
    "<tbody>\n",
    "<tr>\n",
    "<td valign=\"center\" align=\"center\" width=\"25%\"><img src=\"media/decartes.jpg\"\n",
    "alt=\"DeCART Icon\" width=\"128\" height=\"171\"><br>\n",
    "</td>\n",
    "<td valign=\"center\" align=\"center\" width=\"75%\">\n",
    "<h1 align=\"center\"><font size=\"+1\">DeCART Summer School<br>\n",
    "for<br>\n",
    "Biomedical Data Science</font></h1></td>\n",
    "<td valign=\"center\" align=\"center\" width=\"25%\"><img\n",
    "src=\"media/U_Health_stacked_png_red.png\" alt=\"Utah Health\n",
    "Logo\" width=\"128\" height=\"134\"><br>\n",
    "</td>\n",
    "</tr>\n",
    "</tbody>\n",
    "</table>\n",
    "<br>\n",
    "</html>\n",
    "\n",
    "\n",
    "# Working with Textual Data\n",
    "#### &copy; Brian E. Chapman, Ph.D.\n",
    "\n",
    "\n",
    "### To get the latest version of this lesson, execute the cell below"
   ]
  },
  {
   "cell_type": "code",
   "execution_count": 1,
   "metadata": {},
   "outputs": [],
   "source": [
    "%matplotlib inline"
   ]
  },
  {
   "cell_type": "code",
   "execution_count": 2,
   "metadata": {},
   "outputs": [],
   "source": [
    "import pymysql\n",
    "import pandas as pd\n",
    "import getpass\n",
    "from textblob import TextBlob"
   ]
  },
  {
   "cell_type": "code",
   "execution_count": 3,
   "metadata": {},
   "outputs": [
    {
     "name": "stdout",
     "output_type": "stream",
     "text": [
      "Enter MySQL passwd for jovyan········\n"
     ]
    }
   ],
   "source": [
    "conn = pymysql.connect(host=\"mysql\",\n",
    "                       port=3306,user=\"jovyan\",\n",
    "                       passwd=getpass.getpass(\"Enter MySQL passwd for jovyan\"),db='mimic2')\n",
    "cursor = conn.cursor()"
   ]
  },
  {
   "cell_type": "markdown",
   "metadata": {},
   "source": [
    "### Use Pandas and SQL to create a dataframe with the following:\n",
    "* subject_id\n",
    "* hospital admission id\n",
    "* text of the radiology report\n",
    "* Limit the number of reports to 10000"
   ]
  },
  {
   "cell_type": "code",
   "execution_count": 4,
   "metadata": {},
   "outputs": [
    {
     "data": {
      "text/html": [
       "<div>\n",
       "<style scoped>\n",
       "    .dataframe tbody tr th:only-of-type {\n",
       "        vertical-align: middle;\n",
       "    }\n",
       "\n",
       "    .dataframe tbody tr th {\n",
       "        vertical-align: top;\n",
       "    }\n",
       "\n",
       "    .dataframe thead th {\n",
       "        text-align: right;\n",
       "    }\n",
       "</style>\n",
       "<table border=\"1\" class=\"dataframe\">\n",
       "  <thead>\n",
       "    <tr style=\"text-align: right;\">\n",
       "      <th></th>\n",
       "      <th>subject_id</th>\n",
       "      <th>hadm_id</th>\n",
       "      <th>text</th>\n",
       "    </tr>\n",
       "  </thead>\n",
       "  <tbody>\n",
       "    <tr>\n",
       "      <th>0</th>\n",
       "      <td>56</td>\n",
       "      <td>28766.0</td>\n",
       "      <td>\\n\\n\\n     DATE: [**2644-1-17**] 10:53 AM\\n   ...</td>\n",
       "    </tr>\n",
       "    <tr>\n",
       "      <th>1</th>\n",
       "      <td>56</td>\n",
       "      <td>28766.0</td>\n",
       "      <td>\\n\\n\\n     DATE: [**2644-1-17**] 10:53 AM\\n   ...</td>\n",
       "    </tr>\n",
       "    <tr>\n",
       "      <th>2</th>\n",
       "      <td>56</td>\n",
       "      <td>28766.0</td>\n",
       "      <td>\\n\\n\\n     DATE: [**2644-1-17**] 10:43 AM\\n   ...</td>\n",
       "    </tr>\n",
       "    <tr>\n",
       "      <th>3</th>\n",
       "      <td>56</td>\n",
       "      <td>28766.0</td>\n",
       "      <td>\\n\\n\\n     DATE: [**2644-1-17**] 6:37 AM\\n    ...</td>\n",
       "    </tr>\n",
       "    <tr>\n",
       "      <th>4</th>\n",
       "      <td>56</td>\n",
       "      <td>28766.0</td>\n",
       "      <td>\\n\\n\\n     DATE: [**2644-1-19**] 12:09 PM\\n   ...</td>\n",
       "    </tr>\n",
       "  </tbody>\n",
       "</table>\n",
       "</div>"
      ],
      "text/plain": [
       "   subject_id  hadm_id                                               text\n",
       "0          56  28766.0  \\n\\n\\n     DATE: [**2644-1-17**] 10:53 AM\\n   ...\n",
       "1          56  28766.0  \\n\\n\\n     DATE: [**2644-1-17**] 10:53 AM\\n   ...\n",
       "2          56  28766.0  \\n\\n\\n     DATE: [**2644-1-17**] 10:43 AM\\n   ...\n",
       "3          56  28766.0  \\n\\n\\n     DATE: [**2644-1-17**] 6:37 AM\\n    ...\n",
       "4          56  28766.0  \\n\\n\\n     DATE: [**2644-1-19**] 12:09 PM\\n   ..."
      ]
     },
     "execution_count": 4,
     "metadata": {},
     "output_type": "execute_result"
    }
   ],
   "source": [
    "rad_data = \\\n",
    "pd.read_sql(\"\"\"SELECT noteevents.subject_id, \n",
    "                      noteevents.hadm_id,\n",
    "                      noteevents.text \n",
    "               FROM noteevents\n",
    "               WHERE noteevents.category = 'RADIOLOGY_REPORT' LIMIT 10000\"\"\",conn)\n",
    "rad_data.head(5)"
   ]
  },
  {
   "cell_type": "code",
   "execution_count": 10,
   "metadata": {},
   "outputs": [
    {
     "data": {
      "text/plain": [
       "{'DISCHARGE_SUMMARY', 'MD Notes', 'Nursing/Other', 'RADIOLOGY_REPORT'}"
      ]
     },
     "execution_count": 10,
     "metadata": {},
     "output_type": "execute_result"
    }
   ],
   "source": [
    "rad_Data=pd.read_sql(\"\"\"SELECT * \n",
    "               FROM noteevents\n",
    "               \"\"\",conn)\n",
    "rad_Data.head()\n",
    "set(rad_Data[\"category\"])"
   ]
  },
  {
   "cell_type": "code",
   "execution_count": 5,
   "metadata": {},
   "outputs": [
    {
     "data": {
      "text/plain": [
       "(10000, 3)"
      ]
     },
     "execution_count": 5,
     "metadata": {},
     "output_type": "execute_result"
    }
   ],
   "source": [
    "rad_data.shape"
   ]
  },
  {
   "cell_type": "markdown",
   "metadata": {},
   "source": [
    "## Section Splitting\n",
    "\n",
    "<img src=\"http://medicine.utah.edu/dbmi/images/faculty/Chapman,Wendy_240x360.jpg\"\n",
    "alt=\"Wendy Chapman\" width=\"128\">\n",
    "\n",
    "Clinical reports are often divided into sections. Physicians are taught to write their reports in the SOAP format: subjective information, objective information, assessment, and plan, and sections often reflect this process. Information each setion may be formatted differently. For example, subjective information is often narrative, telling a story of the patient's description of their past medical history and their current issues. The objective section may be much more telegraphic with shortened descriptions of measurements like blood pressure and heart rate, such as \"120/80 88\". You may need different NLP techniques to accurately extract information out of different sections. Sentence splitting, for example, may be different in subjective versus objective sections. Radiology reports are not in the SOAP format, but section identification can still be very important, because in these reports the radiologist describes what she sees on the radiographic image then sometimes summarizes her impression of what the observations may represent, such as \"the infiltrate could be consistent with pneumonia.\" For some tasks, you may only be interested in the impression, which has more weight than the reasoning that occurs in the Findings section."
   ]
  },
  {
   "cell_type": "markdown",
   "metadata": {},
   "source": [
    "## Exercise\n",
    "\n",
    "Write a function that returns the impression section of a report. The function will take two arguments:\n",
    "\n",
    "1. The text to search for the impression section is the first positional argument.\n",
    "1. A list of phrases to use to identify the impression section.\n",
    "\n",
    "Not every report will have a section labeled \"IMPRESSION\". You can consider \"INTERPRETATION\" and \"CONCLUSIONS\" as synonyms for \"IMPRESSION\"\n",
    "\n",
    "If you cannot identify the impresison section (or equivalent), return an empty string.\n",
    "\n",
    "#### Hints\n",
    "\n",
    "* Use a for loop  to iterate across\n",
    "* Use the find method of a string to identify where in the string the impression section occurs\n",
    "* Use slicing to grab the impression section\n"
   ]
  },
  {
   "cell_type": "code",
   "execution_count": 27,
   "metadata": {},
   "outputs": [
    {
     "ename": "SyntaxError",
     "evalue": "invalid syntax (<ipython-input-27-0979e293500c>, line 5)",
     "output_type": "error",
     "traceback": [
      "\u001b[0;36m  File \u001b[0;32m\"<ipython-input-27-0979e293500c>\"\u001b[0;36m, line \u001b[0;32m5\u001b[0m\n\u001b[0;31m    if rad_Data[\"text\"][txt].find(term)!=-1\u001b[0m\n\u001b[0m                                           ^\u001b[0m\n\u001b[0;31mSyntaxError\u001b[0m\u001b[0;31m:\u001b[0m invalid syntax\n"
     ]
    }
   ],
   "source": [
    "\n",
    "def find_impression(txt, searchterms=[\"IMPRESSION\",\"INTERPRETATION\",\"CONCLUSIONS\"]):\n",
    "    #for x in range(len(rad_Data[\"text\"])):\n",
    "    for term in searchterms:\n",
    "        if rad_Data[\"text\"][txt].find(term)!=-1\n",
    "            return(rad_Data[\"text\"][txt][rad_Data[\"text\"][x].find(term):])\n",
    "            break\n",
    "    return \"\"\n",
    "\n",
    "find_impression(txt10)\n"
   ]
  },
  {
   "cell_type": "code",
   "execution_count": 22,
   "metadata": {},
   "outputs": [
    {
     "data": {
      "text/plain": [
       "'**2644-1-17**]              Discharge Date:   [**2644-1-23**]\\n \\nDate of Birth:  [**2553-5-26**]             Sex:   F\\n \\nService: MEDICINE\\n \\nAllergies: \\nPatient recorded as having No Known Allergies to Drugs\\n \\nAttending:[**First Name3 (LF) 2775**] \\nChief Complaint:\\nfall\\n \\nMajor Surgical or Invasive Procedure:\\nn/a\\n\\n \\nHistory of Present Illness:\\nNF admit seen and appreciated.  Briefly this is a [**Age over 90 **] yo f w/ h/o \\nlung ca w/ metastasis to brain on XRT, s/p fall at NH on Sun \\neve. No LOC.  [**1-24**] lethargy, n/v,L arm weakness, sent to [**Hospital1 **] \\n[**Location (un) 579**] where she was noted to havv 3x3cm R posterior parietal \\nbleed.  Tx to NSICU, started on dilantin (load) and decadron.  \\nDeemed not a surgical candidate -> DNR/DNI.\\nNoted to be guiac pos, +hct drop, coffee grounds on NGL.  GI \\nrecommended transfusing to maintain hct.\\n \\nPast Medical History:\\nLung ca w/ mets to brain\\nhigh cholesterol\\nHTN\\nCAD\\nLopresser 25mg tid\\n \\nSocial History:\\nlives at [**Location **], at baseline walks w/ walker.\\nspeaks italian, some english\\n\\n \\nPhysical Exam:\\nt 98.6, bp 120/68, p 88, r 20 97% ra\\nElderly female, lying in bed, foam from mouth, responsive to \\nvoice, can squeeze R hand.  \\nR pupil 4mm, no reactive, L pupil reactive.\\nNo cervical/sm/sc LA\\nRegular s1,s2. no m/r/g\\nLCA anteriorly.\\n \\nPertinent Results:\\ncbc:\\n8.9  8.6  229 \\n    27.1  \\n\\nelectrolytes:\\n[**2644-1-17**] 04:51PM   SODIUM-137\\n[**2644-1-17**] 04:51PM   ALBUMIN-3.2*\\n[**2644-1-17**] 09:45AM   SODIUM-131* POTASSIUM-4.1 CHLORIDE-95* TOTAL \\nCO2-30* ANION GAP-10\\n[**2644-1-17**] 03:57AM   CALCIUM-8.6 PHOSPHATE-3.9 MAGNESIUM-1.8\\n[**2644-1-17**] 03:57AM   PHENYTOIN-10.2\\n\\nMRI:On diffusion-weighted images there is a small area of \\nrestricted diffusion along the falx within the left \\noccipitotemporal lobe. It is also bright on FLAIR-weighted \\nimages and may represent a subacute infarct. Clinical \\ncorrelation is recommended. On gradient echo images there is a \\nlarge area of intraparenchymal hemorrhage within the right \\nparietal lobe and left thalamus which following administration \\nof gadolinium reveals ring-enhancing lesions. These are \\nsuspicious for hemorrhagic metastases given the patient\\'s \\nhistory. Additional ring-enhancing lesions throughout the supra- \\nand infratentorial compartments are visualized. There is a \\nmoderate amount of peritumoral edema involving the right \\nparietal lobe lesion in addition to a second right parietal \\nlesion along the falx high in the vertex. The other areas of \\nmetastases reveal a minimal amount of peritumoral edema.\\n.\\ncxr: Cardiomegaly and mild CHF. Nasogastric tube as described \\nabove. Rounded opacity overlying the left hilum, which probably \\nrepresenting aspiration pneumonia; however, left hilar mass \\ncannot be totally excluded. Please confirm resolution by \\nrepeated chest x-ray after treatment, and if the lesion \\npersists, please evaluate by CT scan.\\n. \\nct: Stable appearance of right parietal lobe and left thalamic \\nhemorrhages, which are concerning for hemorrhagic metastasis in \\nthis patient with known metastatic lung carcinoma to the brain.\\n\\n \\nBrief Hospital Course:\\n[**Age over 90 **] yo f s/p INH in R parietal region, evidence of UGIB, \\ntransferred to medicine, w/ pupillary assymmetry but no evidence \\nof neglect, responding to commands.\\n.\\n1) altered MS- likely bleed into metastatic lesion, although \\nunclear based on location of known lesions, vs component of \\nfall.  as per NS, not a surgical candidate.  seems unlikely that \\npt will have dramatic cliical improvement given significant \\nedema, mass lesions, and no NS intervention.\\n-palliative XRT? family mtg tonite to discuss utility. \\n-cont dilantin px, particularly since pt has ? of witnessed sz \\nevent.\\n-cont high dose decadron, q6h w/ fs.\\n-will clarify \\n.\\n2) GIB- drop in hct during admission and + NGL.  GI input \\nappreciated felt likely [**1-24**] stress ulceration.  Enteral \\nnutrition and PPI (usually oral) have been shown to reduce the \\nrisk of ongoing bleeding. \\n-start TF\\'s 10cc/h until nutrition recs\\n-IV protonix (given recent h/o GIB)\\n.\\n3) CAD/CHF- previously some CHF on CXR.  oxygenating well.  \\neuvolemic on exam despite significant anasarca of hands/feet- \\nminimal swelling of tibial surfaces so partially related to \\nrestraints.   \\n-cont lopresser\\n-d/c lipitor, rx for hepatic dz.\\n.\\n4) fen- ivf, tf\\'s\\n.\\n5) ppx- ppi, pneumoboots\\n.\\n6) code- dnr/dni\\n\\nOn [**2644-1-19**] a family meeting was held with Oncology, Social Work, \\nPalliative Care Consult and primary medical team. At that time \\nthe family decided to place comfort as the main goal of her \\nmedical care. Her status was changed to \"CMO\".\\n \\nMedications on Admission:\\n-lipitor 20\\n-protonix\\n-lopressor 25 tid\\n\\n \\nDischarge Medications:\\nMorphine Elixir\\nScopolamine Patch\\nAtivan\\n \\nDischarge Disposition:\\nExtended Care\\n \\nFacility:\\nWayside\\n \\nDischarge Diagnosis:\\nMetastatic Lung Cancer\\nIntracerbral Hemmorhage\\nGI Bleed\\n\\n \\nDischarge Condition:\\ncritical\\n\\n \\nDischarge Instructions:\\nPlease keep patitent comfortable\\nNo blood draws, tubes or restraints\\n \\nFollowup Instructions:\\nn/a\\n\\n \\n                             [**First Name11 (Name Pattern1) 335**] [**Last Name (NamePattern4) 336**] MD [**MD Number 2782**]\\n \\nCompleted by: [**First Name11 (Name Pattern1) **] [**Last Name (NamePattern4) 4690**] MD [**MD Number 4691**] [**2644-1-22**] @ 1420\\nSigned electronically by: DR. [**First Name8 (NamePattern2) 335**] [**Doctor Last Name **]\\n on: MON [**2644-3-18**] 11:34 AM\\n(End of Report)\\n\\n\\n'"
      ]
     },
     "execution_count": 22,
     "metadata": {},
     "output_type": "execute_result"
    }
   ],
   "source": [
    "rad_Data[\"text\"][0][25:]"
   ]
  },
  {
   "cell_type": "code",
   "execution_count": null,
   "metadata": {},
   "outputs": [],
   "source": []
  },
  {
   "cell_type": "raw",
   "metadata": {},
   "source": []
  },
  {
   "cell_type": "markdown",
   "metadata": {},
   "source": [
    "## Exercise \n",
    "\n",
    "Use ``apply()`` to create a new column in the ``rad_data`` named \"IMPRESSIONS\" with the string identified with ``find_impression()``."
   ]
  },
  {
   "cell_type": "code",
   "execution_count": null,
   "metadata": {},
   "outputs": [],
   "source": [
    "rad_data.head()"
   ]
  },
  {
   "cell_type": "markdown",
   "metadata": {},
   "source": [
    "## How else might we need to break up a report?\n",
    "\n",
    "* How would I break a report into sentences?\n",
    "* How would I break a report into words?"
   ]
  },
  {
   "cell_type": "markdown",
   "metadata": {},
   "source": [
    "## Group Exercise\n",
    "\n",
    "### Create a single string with all the reports\n",
    "\n",
    "#### Hints, etc.\n",
    "* Use List Comprehension\n",
    "* Use string joins\n",
    "* Iterate over the rows of the data frame\n",
    "* Use TextBlob to get words"
   ]
  }
 ],
 "metadata": {
  "kernelspec": {
   "display_name": "Python 3",
   "language": "python",
   "name": "python3"
  },
  "language_info": {
   "codemirror_mode": {
    "name": "ipython",
    "version": 3
   },
   "file_extension": ".py",
   "mimetype": "text/x-python",
   "name": "python",
   "nbconvert_exporter": "python",
   "pygments_lexer": "ipython3",
   "version": "3.5.5"
  }
 },
 "nbformat": 4,
 "nbformat_minor": 1
}
